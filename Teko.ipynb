{
 "cells": [
  {
   "cell_type": "code",
   "execution_count": null,
   "metadata": {
    "vscode": {
     "languageId": "plaintext"
    }
   },
   "outputs": [],
   "source": [
    "pip install --upgrade --force-reinstall \"numpy<2\"\n",
    "\n",
    "import torch\n",
    "from diffusers import StableVideoDiffusionPipeline\n",
    "from diffusers.utils import load_image, export_to_video\n",
    "import requests\n",
    "from io import BytesIO\n",
    "import numpy as np\n",
    "from PIL import Image\n",
    "import cv2\n",
    "\n",
    "pipe = StableVideoDiffusionPipeline.from_pretrained(\n",
    "    \"stabilityai/stable-video-diffusion-img2vid-xt\",\n",
    "    torch_dtype=torch.float32  # Use float32 since float16 requires GPU\n",
    ").to(\"cuda\")\n",
    "\n",
    "pipe.enable_model_cpu_offload()\n",
    "\n",
    "# Import the initial image crawling online\n",
    "image_url =  \"https://t4.ftcdn.net/jpg/01/14/88/65/360_F_114886567_3hT4lx1EAXR4IlIWSakzqT3pWf2Pvoko.jpg\"\n",
    "\n",
    "response = requests.get(image_url)\n",
    "\n",
    "# Prepare the init image\n",
    "init_image = Image.open(BytesIO(response.content)).convert(\"RGB\")\n",
    "init_image = init_image.resize((426, 240))\n",
    "\n",
    "# Generate first 40 frames video base on the image above\n",
    "video_frames = pipe(init_image, num_frames = 40).frames\n",
    "\n",
    "for i, frame in enumerate(video_frames):\n",
    "    frame.save(f\"frame_{i:03d}.png\")\n",
    "\n",
    "# continue for next 40 frames video\n",
    "next_video_img = video_frames[-1]\n",
    "\n",
    "video_frames_next = pipe(next_video_img, num_frames = 40).frames\n",
    "\n",
    "for i, frame in enumerate(video_frames_next):\n",
    "    frame.save(f\"frame_{i+40:03d}.png\")\n",
    "\n",
    "# Setup for the final video\n",
    "fps = 10\n",
    "\n",
    "frame = cv2.imread(\"frame_000.png\")\n",
    "\n",
    "h, w, _ = first_frame.shape\n",
    "\n",
    "fourcc = cv2.VideoWriter_fourcc(*\"mp4v\")\n",
    "video_writer = cv2.VideoWriter(\"final.mp4\", fourcc, fps, (w,h))\n",
    "\n",
    "#Merge these two video into 80 frames video\n",
    "for i in range(80):\n",
    "    frame_path = f\"frame_{i:03d}.png\"\n",
    "    frame = cv2.imread(frame_path)\n",
    "    video_writer.write(frame)\n",
    "\n",
    "# Release the video\n",
    "video_writer.release()"
   ]
  }
 ],
 "metadata": {
  "language_info": {
   "name": "python"
  }
 },
 "nbformat": 4,
 "nbformat_minor": 2
}
